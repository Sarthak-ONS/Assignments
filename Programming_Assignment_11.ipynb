{
 "cells": [
  {
   "cell_type": "markdown",
   "id": "f6abf3e9",
   "metadata": {},
   "source": [
    "# Python program to find words which are greater than given length k"
   ]
  },
  {
   "cell_type": "code",
   "execution_count": 6,
   "id": "26a392e4",
   "metadata": {},
   "outputs": [
    {
     "name": "stdout",
     "output_type": "stream",
     "text": [
      "['tiger', 'elephant', 'lion', 'leopord']\n"
     ]
    }
   ],
   "source": [
    "# Assuming we have to find words in a list\n",
    "\n",
    "l  = [\"cat\", \"rat\", \"tiger\", \"ant\", \"elephant\", \"lion\",\"leopord\"]\n",
    "\n",
    "k = 3\n",
    "\n",
    "list_words_greater_than_k = []\n",
    "\n",
    "for i in l:\n",
    "    if len(i) > k:\n",
    "        list_words_greater_than_k.append(i)\n",
    "    \n",
    "print(list_words_greater_than_k)"
   ]
  },
  {
   "cell_type": "markdown",
   "id": "5fd0d82a",
   "metadata": {},
   "source": [
    "# Python program for removing i-th character from a string"
   ]
  },
  {
   "cell_type": "code",
   "execution_count": 16,
   "id": "5f1e004c",
   "metadata": {},
   "outputs": [
    {
     "name": "stdout",
     "output_type": "stream",
     "text": [
      "Sar\n",
      "hak Agarwal\n",
      "Sarhak Agarwal\n"
     ]
    }
   ],
   "source": [
    "str = \"Sarthak Agarwal\"\n",
    "\n",
    "i = 4\n",
    "\n",
    "# We can use slicing\n",
    "\n",
    "a = str[:i-1]\n",
    "print(a)\n",
    "b= str[i:]\n",
    "print(b)\n",
    "print(a+b)"
   ]
  },
  {
   "cell_type": "markdown",
   "id": "f2ad4208",
   "metadata": {},
   "source": [
    "# Python program to split and join a string"
   ]
  },
  {
   "cell_type": "code",
   "execution_count": 35,
   "id": "d6ee1887",
   "metadata": {},
   "outputs": [
    {
     "name": "stdout",
     "output_type": "stream",
     "text": [
      "Sarthak Agarwal\n"
     ]
    }
   ],
   "source": [
    "str = \"Sarthak Agarwal\"\n",
    "\n",
    "l = str.split()\n",
    "\n",
    "res = \" \"\n",
    "\n",
    "res = res.join(l)\n",
    "\n",
    "print(res)\n"
   ]
  },
  {
   "cell_type": "markdown",
   "id": "af7f948b",
   "metadata": {},
   "source": [
    "# Python to check if a given string is binary string or not"
   ]
  },
  {
   "cell_type": "code",
   "execution_count": 48,
   "id": "685cbe5b",
   "metadata": {},
   "outputs": [],
   "source": [
    "def check_string_isBinary(str):\n",
    "    for i in str:\n",
    "        if i == '0' or i == '1':\n",
    "            pass\n",
    "        else :\n",
    "            return False\n",
    "    return True"
   ]
  },
  {
   "cell_type": "code",
   "execution_count": 51,
   "id": "da53900d",
   "metadata": {},
   "outputs": [
    {
     "data": {
      "text/plain": [
       "True"
      ]
     },
     "execution_count": 51,
     "metadata": {},
     "output_type": "execute_result"
    }
   ],
   "source": [
    "str  = \"10101010\"\n",
    "\n",
    "check_string_isBinary(str)\n"
   ]
  },
  {
   "cell_type": "markdown",
   "id": "bb282b4e",
   "metadata": {},
   "source": [
    "# Python program to find uncommon words from two Strings"
   ]
  },
  {
   "cell_type": "code",
   "execution_count": 60,
   "id": "f150fc93",
   "metadata": {},
   "outputs": [
    {
     "name": "stdout",
     "output_type": "stream",
     "text": [
      "['Sarthak', 'good', 'Aditya', 'bad']\n"
     ]
    }
   ],
   "source": [
    "str1 = \"Sarthak Agarwal is a good boy!\"\n",
    "str2 = \"Aditya Agarwal is a bad boy!\"\n",
    "\n",
    "l1= str1.split()\n",
    "l2 = str2.split()\n",
    "\n",
    "uncommon_list = []\n",
    "\n",
    "for i in l1:\n",
    "    if i not in l2:\n",
    "        uncommon_list.append(i)\n",
    "for i in l2:\n",
    "    if i not in l1:\n",
    "        uncommon_list.append(i)\n",
    "print(uncommon_list)\n"
   ]
  },
  {
   "cell_type": "markdown",
   "id": "e51786d3",
   "metadata": {},
   "source": [
    "# Python to find all duplicate characters in string"
   ]
  },
  {
   "cell_type": "code",
   "execution_count": 76,
   "id": "654c3ec2",
   "metadata": {},
   "outputs": [
    {
     "data": {
      "text/plain": [
       "['a', 'r']"
      ]
     },
     "execution_count": 76,
     "metadata": {},
     "output_type": "execute_result"
    }
   ],
   "source": [
    "str=  \"Sarthak Agarwal\"\n",
    "\n",
    "\n",
    "def get_duplicates(str):\n",
    "    l = []\n",
    "    for i  in str:\n",
    "        if i not in l and str.count(i)> 1:\n",
    "            l.append(i)\n",
    "            \n",
    "            \n",
    "    return l\n",
    "get_duplicates(str)"
   ]
  },
  {
   "cell_type": "markdown",
   "id": "28bc3886",
   "metadata": {},
   "source": [
    "# Python Program to check if a string contains any special character"
   ]
  },
  {
   "cell_type": "code",
   "execution_count": 131,
   "id": "e911dc7f",
   "metadata": {},
   "outputs": [
    {
     "name": "stdout",
     "output_type": "stream",
     "text": [
      "False\n"
     ]
    }
   ],
   "source": [
    "import re\n",
    "\n",
    "regex = re.compile(\"[$&+,:;=?@#|{'<>\\}.^*()%!-]\")\n",
    "\n",
    "str=  \"Sarthak Agarwal\"\n",
    "\n",
    "if regex.search(str)==None:\n",
    "    print(False)\n",
    "    \n",
    "else :\n",
    "    print(True)"
   ]
  },
  {
   "cell_type": "code",
   "execution_count": null,
   "id": "c1d046e5",
   "metadata": {},
   "outputs": [],
   "source": []
  },
  {
   "cell_type": "code",
   "execution_count": null,
   "id": "6fcc88ba",
   "metadata": {},
   "outputs": [],
   "source": []
  }
 ],
 "metadata": {
  "kernelspec": {
   "display_name": "Python 3 (ipykernel)",
   "language": "python",
   "name": "python3"
  },
  "language_info": {
   "codemirror_mode": {
    "name": "ipython",
    "version": 3
   },
   "file_extension": ".py",
   "mimetype": "text/x-python",
   "name": "python",
   "nbconvert_exporter": "python",
   "pygments_lexer": "ipython3",
   "version": "3.9.7"
  }
 },
 "nbformat": 4,
 "nbformat_minor": 5
}
