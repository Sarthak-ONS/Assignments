{
 "cells": [
  {
   "cell_type": "markdown",
   "id": "a1ea0ad1",
   "metadata": {},
   "source": [
    "# Python Program to Add Two Matrices"
   ]
  },
  {
   "cell_type": "code",
   "execution_count": 50,
   "id": "228bf0a9",
   "metadata": {},
   "outputs": [
    {
     "name": "stdout",
     "output_type": "stream",
     "text": [
      "[[2, 4, 6], [8, 10, 12], [14, 16, 18]]\n",
      "Two Matrices added successfully!\n",
      "Code Execeuted Successfully\n"
     ]
    }
   ],
   "source": [
    "x = [[1,2,3],\n",
    "    [4 ,5,6,],\n",
    "    [7,8,9],]\n",
    " \n",
    "y = [[1,2,3],\n",
    "    [4 ,5,6],\n",
    "    [7,8,9]]\n",
    "\n",
    "try:\n",
    "    l = []\n",
    "    for i in range(0 , len(x)):\n",
    "        temp = []\n",
    "        for z in range (0, len(x[i])):\n",
    "            temp.append(x[i][z]+ y[i][z])\n",
    "        l.append(temp)\n",
    "    print(l)\n",
    "\n",
    "except IndexError as e:\n",
    "    print(\"\\nMatrix are not of Same Length\")\n",
    "else:\n",
    "    print(\"Two Matrices added successfully!\")\n",
    "    \n",
    "finally:\n",
    "    print(\"Code Execeuted Successfully\")"
   ]
  },
  {
   "cell_type": "markdown",
   "id": "852642d0",
   "metadata": {},
   "source": [
    "# Python Program to Multiply Two Matrices"
   ]
  },
  {
   "cell_type": "code",
   "execution_count": 53,
   "id": "fb5b2aea",
   "metadata": {},
   "outputs": [
    {
     "name": "stdout",
     "output_type": "stream",
     "text": [
      "[[ 30  36  42]\n",
      " [ 66  81  96]\n",
      " [102 126 150]]\n",
      "Two Matrices added successfully!\n",
      "Code Execeuted Successfully\n"
     ]
    }
   ],
   "source": [
    "import numpy as np\n",
    "x = [[1,2,3],\n",
    "    [4 ,5,6,],\n",
    "    [7,8,9],]\n",
    " \n",
    "y = [[1,2,3],\n",
    "    [4 ,5,6],\n",
    "    [7,8,9]]\n",
    "\n",
    "\n",
    "try:\n",
    "        x =  np.matmul(x,y)\n",
    "        print(x)\n",
    "\n",
    "except IndexError as e:\n",
    "    print(\"\\nMatrix are not of Same Length\")\n",
    "else:\n",
    "    print(\"Two Matrices added successfully!\")\n",
    "    \n",
    "finally:\n",
    "    print(\"Code Execeuted Successfully\")"
   ]
  },
  {
   "cell_type": "markdown",
   "id": "6df62496",
   "metadata": {},
   "source": [
    "# Python Program to Transpose a Matrix"
   ]
  },
  {
   "cell_type": "code",
   "execution_count": 57,
   "id": "e7bee6d2",
   "metadata": {},
   "outputs": [
    {
     "data": {
      "text/plain": [
       "array([[1, 4, 7],\n",
       "       [2, 5, 8],\n",
       "       [3, 6, 9]])"
      ]
     },
     "execution_count": 57,
     "metadata": {},
     "output_type": "execute_result"
    }
   ],
   "source": [
    "import numpy as np\n",
    "x = [[1,2,3],\n",
    "    [4 ,5,6,],\n",
    "    [7,8,9],]\n",
    "\n",
    "np.array(x).T"
   ]
  },
  {
   "cell_type": "markdown",
   "id": "788eacc1",
   "metadata": {},
   "source": [
    "# Python Program to Remove Punctuation From a String"
   ]
  },
  {
   "cell_type": "code",
   "execution_count": 103,
   "id": "8325698f",
   "metadata": {},
   "outputs": [],
   "source": [
    "l = [chr(c) for c in range(65, 90)] +  [chr(i) for i in range(97, 123) ] + [chr(32)]"
   ]
  },
  {
   "cell_type": "code",
   "execution_count": 108,
   "id": "12ac4114",
   "metadata": {},
   "outputs": [
    {
     "name": "stdout",
     "output_type": "stream",
     "text": [
      "ab              cd                 ef\n"
     ]
    }
   ],
   "source": [
    "str = \"ab\\\"#$%&'()*+,-./cd:;<=>?@[\\]^_`{|}~ef\"\n",
    "\n",
    "for i in range(len(str)):\n",
    "    if str[i] not in l:\n",
    "        str = str.replace(str[i], \" \")\n",
    "        \n",
    "print(str)"
   ]
  },
  {
   "cell_type": "code",
   "execution_count": null,
   "id": "ebe58d3b",
   "metadata": {},
   "outputs": [],
   "source": []
  },
  {
   "cell_type": "code",
   "execution_count": null,
   "id": "df77c70a",
   "metadata": {},
   "outputs": [],
   "source": []
  }
 ],
 "metadata": {
  "kernelspec": {
   "display_name": "Python 3 (ipykernel)",
   "language": "python",
   "name": "python3"
  },
  "language_info": {
   "codemirror_mode": {
    "name": "ipython",
    "version": 3
   },
   "file_extension": ".py",
   "mimetype": "text/x-python",
   "name": "python",
   "nbconvert_exporter": "python",
   "pygments_lexer": "ipython3",
   "version": "3.9.7"
  }
 },
 "nbformat": 4,
 "nbformat_minor": 5
}
