{
 "cells": [
  {
   "cell_type": "markdown",
   "id": "871ef95a",
   "metadata": {},
   "source": [
    "# Python program to convert kilometers to miles"
   ]
  },
  {
   "cell_type": "code",
   "execution_count": 15,
   "id": "eb703a67",
   "metadata": {},
   "outputs": [
    {
     "name": "stdout",
     "output_type": "stream",
     "text": [
      "Please Enter Values in Kilometers 70\n",
      "70.0 km's is equal to 43.5052827843381'miles\n",
      "Successfully Completed.\n"
     ]
    }
   ],
   "source": [
    "# Using Formulae 1km  =  0.621371 miles\n",
    "\n",
    "\n",
    "try:\n",
    "    \n",
    "    value_in_km = float(input(\"Please Enter Values in Kilometers \"))\n",
    "    value_in_miles = value_in_km / 1.609\n",
    "    print(f\"{value_in_km} km's is equal to {value_in_miles}miles\")\n",
    "    \n",
    "except ValueError as e:\n",
    "    print(\"Invalid Value\")\n",
    "\n",
    "except Exception as e:\n",
    "    print(e)\n",
    "\n",
    "finally: \n",
    "    print(\"Successfully Completed.\")"
   ]
  },
  {
   "cell_type": "markdown",
   "id": "b2f3bd11",
   "metadata": {},
   "source": [
    "# Python program to convert Celsius to Fahrenheit"
   ]
  },
  {
   "cell_type": "code",
   "execution_count": 18,
   "id": "677b6c54",
   "metadata": {},
   "outputs": [
    {
     "name": "stdout",
     "output_type": "stream",
     "text": [
      "Please Enter Values in Fahrenheit 1\n",
      "1.0 degree celsius  is equal to 33.8 fahrenheits(F)\n",
      "Successfully Completed.\n"
     ]
    }
   ],
   "source": [
    "# Fahrenheit = (celsius * 1.8) + 32\n",
    "\n",
    "\n",
    "try:\n",
    "    \n",
    "    celsius = float(input(\"Please Enter Values in Fahrenheit \"))\n",
    "    fahrenheit = (celsius * 1.8) + 32\n",
    "    print(f\"{celsius} degree celsius  is equal to {fahrenheit} fahrenheits(F)\")\n",
    "    \n",
    "except ValueError as e:\n",
    "    print(\"Invalid Value\")\n",
    "\n",
    "except Exception as e:\n",
    "    print(e)\n",
    "\n",
    "finally: \n",
    "    print(\"Successfully Completed.\")"
   ]
  },
  {
   "cell_type": "markdown",
   "id": "6aa24ea2",
   "metadata": {},
   "source": [
    "# Python program to display calendar"
   ]
  },
  {
   "cell_type": "code",
   "execution_count": 77,
   "id": "7b2cb3e1",
   "metadata": {},
   "outputs": [
    {
     "name": "stdout",
     "output_type": "stream",
     "text": [
      "Please enter the year : 2024\n",
      "Please enter the month : 12\n",
      "   December 2024\n",
      "Mo Tu We Th Fr Sa Su\n",
      "                   1\n",
      " 2  3  4  5  6  7  8\n",
      " 9 10 11 12 13 14 15\n",
      "16 17 18 19 20 21 22\n",
      "23 24 25 26 27 28 29\n",
      "30 31\n",
      "\n",
      "Calender displayed Successfully\n",
      "Successfully Completed.\n"
     ]
    }
   ],
   "source": [
    "\n",
    "import calendar\n",
    " \n",
    "try:\n",
    "    yy = int(input(\"Please enter the year : \"))\n",
    "    mm = int(input(\"Please enter the month : \"))\n",
    "    print(calendar.month(yy, mm))\n",
    "    \n",
    "except ValueError as e:\n",
    "    print(\"Please Enter a valid value\")\n",
    "    \n",
    "except IndexError as e:\n",
    "    print(\"Please a valid month and days\")\n",
    "    \n",
    "except Exeption as e:\n",
    "    print(\"Invalid Values\")\n",
    "\n",
    "else: \n",
    "    print(\"Calender displayed Successfully\")\n",
    "    \n",
    "finally:\n",
    "    print(\"Successfully Completed.\")\n"
   ]
  },
  {
   "cell_type": "markdown",
   "id": "7b2c4b61",
   "metadata": {},
   "source": [
    "\n",
    "# Python program to solve quadratic equation"
   ]
  },
  {
   "cell_type": "code",
   "execution_count": 75,
   "id": "c5d4c503",
   "metadata": {},
   "outputs": [
    {
     "name": "stdout",
     "output_type": "stream",
     "text": [
      "The general equation is  ax² + bx + c\n",
      "Please enter parameters for coefficients a, b and c\n",
      "Please give coefficient a : 484\n",
      "Please give coefficient b : 15\n",
      "Please give coefficient c : -156\n",
      "The roots are (-0.5834343956962913+0j) and (0.5524426601591013+0j)\n",
      "Successfully Completed.\n"
     ]
    }
   ],
   "source": [
    "import cmath\n",
    "\n",
    "print('The general equation is  ax\\u00b2 + bx + c')\n",
    "print(\"Please enter parameters for coefficients a, b and c\")\n",
    "\n",
    "try:\n",
    "    \n",
    "    a = float(input(\"Please give coefficient a : \"))\n",
    "    b = float(input(\"Please give coefficient b : \"))\n",
    "    c = float(input(\"Please give coefficient c : \"))\n",
    "    \n",
    "    # Using Sridharacharya formula.\n",
    "    \n",
    "    d = (b**2) - (4*a*c)\n",
    "    \n",
    "    \n",
    "    root1 = (-b-cmath.sqrt(d))/(2*a)\n",
    "    root2 = (-b+cmath.sqrt(d))/(2*a)\n",
    "    \n",
    "    print(f\"The roots are {root1} and {root2}\")\n",
    "    \n",
    "except ValueError as e:\n",
    "    print(\"Invalid Value of Coefficients\")\n",
    "\n",
    "except Exception as e:\n",
    "    print(e)\n",
    "\n",
    "finally: \n",
    "    print(\"Successfully Completed.\")"
   ]
  },
  {
   "cell_type": "markdown",
   "id": "f89fadfc",
   "metadata": {},
   "source": [
    "# Python program to swap two variables without temp variable"
   ]
  },
  {
   "cell_type": "code",
   "execution_count": null,
   "id": "148fad2b",
   "metadata": {},
   "outputs": [],
   "source": [
    "a =  2\n",
    "b =  4\n",
    "\n",
    "a = a+b\n",
    "b =a-b\n",
    "a= a-b\n",
    "\n",
    "print(a)\n",
    "print(b)"
   ]
  }
 ],
 "metadata": {
  "kernelspec": {
   "display_name": "Python 3 (ipykernel)",
   "language": "python",
   "name": "python3"
  },
  "language_info": {
   "codemirror_mode": {
    "name": "ipython",
    "version": 3
   },
   "file_extension": ".py",
   "mimetype": "text/x-python",
   "name": "python",
   "nbconvert_exporter": "python",
   "pygments_lexer": "ipython3",
   "version": "3.9.7"
  }
 },
 "nbformat": 4,
 "nbformat_minor": 5
}
