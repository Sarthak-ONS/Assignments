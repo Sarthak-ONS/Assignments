{
 "cells": [
  {
   "cell_type": "markdown",
   "id": "59d39818",
   "metadata": {},
   "source": [
    "# Program to print Hello world!"
   ]
  },
  {
   "cell_type": "code",
   "execution_count": 1,
   "id": "6fe7cd5c",
   "metadata": {},
   "outputs": [
    {
     "name": "stdout",
     "output_type": "stream",
     "text": [
      "Hello World!\n"
     ]
    }
   ],
   "source": [
    "print(\"Hello World!\")"
   ]
  },
  {
   "cell_type": "markdown",
   "id": "45c828cf",
   "metadata": {},
   "source": [
    "# Python program to do arithmetical operations addition and division\n"
   ]
  },
  {
   "cell_type": "markdown",
   "id": "1b4d35bc",
   "metadata": {},
   "source": [
    "a = 2\n",
    "b = 4\n",
    "\n",
    "\n",
    "print(a+b)\n",
    "\n",
    "\n",
    "print(b/a)"
   ]
  },
  {
   "cell_type": "markdown",
   "id": "ee357a7d",
   "metadata": {},
   "source": [
    "Python program to find the area of a triangle"
   ]
  },
  {
   "cell_type": "code",
   "execution_count": 5,
   "id": "1ef64ab0",
   "metadata": {},
   "outputs": [
    {
     "name": "stdout",
     "output_type": "stream",
     "text": [
      "4.0\n"
     ]
    }
   ],
   "source": [
    "height = 4\n",
    "base  = 2\n",
    "\n",
    "\n",
    "# Using Formula of area of Right Angled Triangle - (1/2)* base *height\n",
    "print(0.5 * 2* 4)"
   ]
  },
  {
   "cell_type": "markdown",
   "id": "9e2e2d66",
   "metadata": {},
   "source": [
    "# Python program to swap two variables"
   ]
  },
  {
   "cell_type": "code",
   "execution_count": 7,
   "id": "a86e5783",
   "metadata": {},
   "outputs": [
    {
     "name": "stdout",
     "output_type": "stream",
     "text": [
      "4\n",
      "2\n"
     ]
    }
   ],
   "source": [
    "a  = 2\n",
    "b = 4\n",
    "\n",
    "a = a+b\n",
    "b =a-b\n",
    "a= a-b\n",
    "\n",
    "print(a)\n",
    "print(b)"
   ]
  },
  {
   "cell_type": "markdown",
   "id": "8158ab9f",
   "metadata": {},
   "source": [
    "# Python program to generate a random number"
   ]
  },
  {
   "cell_type": "code",
   "execution_count": 9,
   "id": "590a2f18",
   "metadata": {},
   "outputs": [
    {
     "data": {
      "text/plain": [
       "3"
      ]
     },
     "execution_count": 9,
     "metadata": {},
     "output_type": "execute_result"
    }
   ],
   "source": [
    "import random\n",
    "\n",
    "random.randint(1,10)"
   ]
  },
  {
   "cell_type": "code",
   "execution_count": null,
   "id": "05ec927b",
   "metadata": {},
   "outputs": [],
   "source": []
  }
 ],
 "metadata": {
  "kernelspec": {
   "display_name": "Python 3 (ipykernel)",
   "language": "python",
   "name": "python3"
  },
  "language_info": {
   "codemirror_mode": {
    "name": "ipython",
    "version": 3
   },
   "file_extension": ".py",
   "mimetype": "text/x-python",
   "name": "python",
   "nbconvert_exporter": "python",
   "pygments_lexer": "ipython3",
   "version": "3.9.7"
  }
 },
 "nbformat": 4,
 "nbformat_minor": 5
}
