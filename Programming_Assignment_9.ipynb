{
 "cells": [
  {
   "cell_type": "markdown",
   "id": "6f5beab7",
   "metadata": {},
   "source": [
    "# Python program to check if the given number is a Disarium Number"
   ]
  },
  {
   "cell_type": "code",
   "execution_count": 52,
   "id": "d9517e00",
   "metadata": {},
   "outputs": [
    {
     "name": "stdout",
     "output_type": "stream",
     "text": [
      "Total digits in this number is  3\n",
      "135 is a Disarium Number\n"
     ]
    }
   ],
   "source": [
    "import math\n",
    "\n",
    "n = 135\n",
    "temp = n\n",
    "\n",
    "total_digits = math.floor(math.log10(n) + 1)\n",
    "\n",
    "print(\"Total digits in this number is \", total_digits)\n",
    "\n",
    "sum = 0\n",
    "\n",
    "for i in range(total_digits, 0, -1 ):\n",
    "#     print(\"n % 10\", n %10)\n",
    "    sum = sum + (math.pow((n%10), i))\n",
    "    if n == 0:\n",
    "        break\n",
    "    n = n // 10\n",
    "if sum == temp:\n",
    "    print(f\"{temp} is a Disarium Number\")\n",
    "    \n",
    "else:\n",
    "    print(f\"{temp} is not a Disarium Number\")"
   ]
  },
  {
   "cell_type": "markdown",
   "id": "7aa3e4b8",
   "metadata": {},
   "source": [
    "# Python program to print all disarium numbers between 1 to 100"
   ]
  },
  {
   "cell_type": "code",
   "execution_count": 63,
   "id": "a624ed29",
   "metadata": {},
   "outputs": [],
   "source": [
    "def check_Disarium(n):\n",
    "    temp = n\n",
    "\n",
    "    total_digits = math.floor(math.log10(n) + 1)\n",
    "\n",
    "    sum = 0\n",
    "\n",
    "    for i in range(total_digits, 0, -1 ):\n",
    "        sum = sum + (math.pow((n%10), i))\n",
    "        if n == 0:\n",
    "            break\n",
    "        n = n // 10\n",
    "    if sum == temp:\n",
    "        return temp\n",
    "    else :\n",
    "        return \"\""
   ]
  },
  {
   "cell_type": "code",
   "execution_count": 67,
   "id": "ce317f20",
   "metadata": {},
   "outputs": [
    {
     "data": {
      "text/plain": [
       "[1, 2, 3, 4, 5, 6, 7, 8, 9, 89]"
      ]
     },
     "execution_count": 67,
     "metadata": {},
     "output_type": "execute_result"
    }
   ],
   "source": [
    "[check_Disarium(i) for i in range(1,101) if check_Disarium(i) != \"\" ]"
   ]
  },
  {
   "cell_type": "markdown",
   "id": "77aa0fea",
   "metadata": {},
   "source": [
    "# Python program to check if the given number is Happy Number"
   ]
  },
  {
   "cell_type": "code",
   "execution_count": 16,
   "id": "c86d21cd",
   "metadata": {},
   "outputs": [],
   "source": [
    "import math\n",
    "def check_happy(n):\n",
    "    if n == 1 or n == 7:\n",
    "        return True\n",
    "          \n",
    "    sum, x = n, n\n",
    "    while sum > 9:\n",
    "        sum = 0\n",
    "        while x > 0:\n",
    "            d = x % 10\n",
    "            sum += d * d\n",
    "            x = int(x / 10)\n",
    "         \n",
    "        if sum == 1:\n",
    "            return True\n",
    "              \n",
    "        x = sum\n",
    "     \n",
    "    if sum == 7:\n",
    "        return True\n",
    "          \n",
    "    return False"
   ]
  },
  {
   "cell_type": "code",
   "execution_count": 15,
   "id": "83539674",
   "metadata": {},
   "outputs": [
    {
     "data": {
      "text/plain": [
       "True"
      ]
     },
     "execution_count": 15,
     "metadata": {},
     "output_type": "execute_result"
    }
   ],
   "source": [
    "check_happy(82)"
   ]
  },
  {
   "cell_type": "code",
   "execution_count": 19,
   "id": "eff4551d",
   "metadata": {},
   "outputs": [
    {
     "data": {
      "text/plain": [
       "[1, 7, 10, 13, 19, 23, 28, 31, 32, 44, 49, 68, 70, 79, 82, 86, 91, 94, 97, 100]"
      ]
     },
     "execution_count": 19,
     "metadata": {},
     "output_type": "execute_result"
    }
   ],
   "source": [
    "[i for i in range(1,101) if check_happy(i) == True ]"
   ]
  },
  {
   "cell_type": "markdown",
   "id": "cb4926a8",
   "metadata": {},
   "source": [
    "# Python program to determine whether the given number is a Harshad Number"
   ]
  },
  {
   "cell_type": "code",
   "execution_count": 37,
   "id": "84b4474b",
   "metadata": {},
   "outputs": [],
   "source": [
    "def check_harashad(n):\n",
    "\n",
    "    temp = n\n",
    "\n",
    "    sum = 0\n",
    "\n",
    "    while n>0:\n",
    "        sum = sum + n%10\n",
    "        n = n // 10\n",
    "    \n",
    "    return (temp % sum ==0)\n",
    "    \n"
   ]
  },
  {
   "cell_type": "code",
   "execution_count": 41,
   "id": "7d91fbd9",
   "metadata": {},
   "outputs": [
    {
     "data": {
      "text/plain": [
       "True"
      ]
     },
     "execution_count": 41,
     "metadata": {},
     "output_type": "execute_result"
    }
   ],
   "source": [
    "check_harashad(1000)"
   ]
  },
  {
   "cell_type": "markdown",
   "id": "61cc9c62",
   "metadata": {},
   "source": [
    "# Python program to print all pronic numbers between 1 and 100"
   ]
  },
  {
   "cell_type": "code",
   "execution_count": 45,
   "id": "4f78eb16",
   "metadata": {},
   "outputs": [],
   "source": [
    "def check_pronic(n):\n",
    "    for i in range(n):\n",
    "        if n == i* (i+1):\n",
    "            return True\n",
    "    return False"
   ]
  },
  {
   "cell_type": "code",
   "execution_count": 51,
   "id": "8d8107b8",
   "metadata": {},
   "outputs": [
    {
     "data": {
      "text/plain": [
       "[2, 6, 12, 20, 30, 42, 56, 72, 90]"
      ]
     },
     "execution_count": 51,
     "metadata": {},
     "output_type": "execute_result"
    }
   ],
   "source": [
    "[i for i in range(1,100) if check_pronic(i)]"
   ]
  },
  {
   "cell_type": "code",
   "execution_count": null,
   "id": "d0f064dc",
   "metadata": {},
   "outputs": [],
   "source": []
  }
 ],
 "metadata": {
  "kernelspec": {
   "display_name": "Python 3 (ipykernel)",
   "language": "python",
   "name": "python3"
  },
  "language_info": {
   "codemirror_mode": {
    "name": "ipython",
    "version": 3
   },
   "file_extension": ".py",
   "mimetype": "text/x-python",
   "name": "python",
   "nbconvert_exporter": "python",
   "pygments_lexer": "ipython3",
   "version": "3.9.7"
  }
 },
 "nbformat": 4,
 "nbformat_minor": 5
}
