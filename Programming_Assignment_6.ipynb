{
 "cells": [
  {
   "cell_type": "markdown",
   "id": "1620e5e8",
   "metadata": {},
   "source": [
    "# Python Program to Display Fibonacci Sequence Using Recursion"
   ]
  },
  {
   "cell_type": "code",
   "execution_count": 1,
   "id": "99062ae5",
   "metadata": {},
   "outputs": [],
   "source": [
    "def display_fibonnacci_sequence(n):\n",
    "    if n == 0:\n",
    "        return 0\n",
    "    elif n == 1 or n == 2:\n",
    "        return 1\n",
    "    else :\n",
    "        return  display_fibonnacci_sequence(n-1) + display_fibonnacci_sequence(n-2)"
   ]
  },
  {
   "cell_type": "code",
   "execution_count": 2,
   "id": "9e91ef1f",
   "metadata": {},
   "outputs": [
    {
     "name": "stdout",
     "output_type": "stream",
     "text": [
      "Enter The value till Fibonacci Sequence is to be displayed :  10\n",
      "1 1 2 3 5 8 13 21 34 55 \n",
      "The Fibonacci Sequence is displayed successfully!\n",
      "Code execution completed.\n"
     ]
    }
   ],
   "source": [
    "try:\n",
    "    n = int(input(\"Enter The value till Fibonacci Sequence is to be displayed :  \"))\n",
    "    if n < 0:\n",
    "            print(\"Print incorrect input\")\n",
    "\n",
    "    else:\n",
    "           for i in range(1,n+1):\n",
    "                print(display_fibonnacci_sequence(i),  end = \" \", flush = True)\n",
    "    \n",
    "    print()\n",
    "except ValueError as e:\n",
    "    print(\"Incorrect Value of n\")\n",
    "\n",
    "else:\n",
    "    print(\"The Fibonacci Sequence is displayed successfully!\")\n",
    "    \n",
    "finally:\n",
    "    print(\"Code execution completed.\")"
   ]
  },
  {
   "cell_type": "markdown",
   "id": "31b88c16",
   "metadata": {},
   "source": [
    "# Python Program to Find Factorial of Number Using Recursion"
   ]
  },
  {
   "cell_type": "code",
   "execution_count": 3,
   "id": "9a096dcf",
   "metadata": {},
   "outputs": [],
   "source": [
    "def dispplay_factorial(n):\n",
    "    if n == 0:\n",
    "        return 1\n",
    "    elif n == 1:\n",
    "        return 1\n",
    "    else :\n",
    "        return  dispplay_factorial(n-1) * n"
   ]
  },
  {
   "cell_type": "code",
   "execution_count": 4,
   "id": "5f1adcd6",
   "metadata": {},
   "outputs": [
    {
     "name": "stdout",
     "output_type": "stream",
     "text": [
      "Enter The value till Factorial is to be displayed :  5\n",
      "120\n",
      "The Factorial is displayed successfully!\n",
      "Code execution completed.\n"
     ]
    }
   ],
   "source": [
    "try:\n",
    "    n = int(input(\"Enter The value till Factorial is to be displayed :  \"))    \n",
    "    print(dispplay_factorial(n))\n",
    "except ValueError as e:\n",
    "    print(\"Incorrect Value of n\")\n",
    "\n",
    "else:\n",
    "    print(\"The Factorial is displayed successfully!\")\n",
    "    \n",
    "finally:\n",
    "    print(\"Code execution completed.\")"
   ]
  },
  {
   "cell_type": "markdown",
   "id": "c4d51338",
   "metadata": {},
   "source": [
    "# Python Program to calculate your Body Mass Index"
   ]
  },
  {
   "cell_type": "code",
   "execution_count": 5,
   "id": "903653b4",
   "metadata": {},
   "outputs": [
    {
     "name": "stdout",
     "output_type": "stream",
     "text": [
      "Enter your weight in(Kgs) :  77\n",
      "Enter your height in(meters) :  1.72\n",
      "Your BMI is  26.02758\n",
      "The BMI is displayed successfully!\n",
      "Code execution completed.\n"
     ]
    }
   ],
   "source": [
    "try:\n",
    "    w = float(input(\"Enter your weight in(Kgs) :  \"))\n",
    "    h = float(input(\"Enter your height in(meters) :  \"))\n",
    "    print(\"Your BMI is \" , '%3.5f' % ( w / (h**2))  )\n",
    "    \n",
    "except ValueError as e:\n",
    "    print(\"Incorrect Value of n\")\n",
    "\n",
    "else:\n",
    "    print(\"The BMI is displayed successfully!\")\n",
    "    \n",
    "finally:\n",
    "    print(\"Code execution completed.\")"
   ]
  },
  {
   "cell_type": "markdown",
   "id": "995bf1c0",
   "metadata": {},
   "source": [
    "# Python Program to calculate the natural logarithm of any number"
   ]
  },
  {
   "cell_type": "code",
   "execution_count": 6,
   "id": "cde83e9d",
   "metadata": {},
   "outputs": [
    {
     "name": "stdout",
     "output_type": "stream",
     "text": [
      "Enter a Number :  10\n",
      "2.302585092994046\n",
      "The Natural Log is displayed successfully!\n",
      "Code execution completed.\n"
     ]
    }
   ],
   "source": [
    "import math\n",
    "try:\n",
    "    n = float(input(\"Enter a Number :  \"))    \n",
    "    print(math.log(10))\n",
    "except ValueError as e:\n",
    "    print(\"Incorrect Value of n\")\n",
    "\n",
    "else:\n",
    "    print(\"The Natural Log is displayed successfully!\")\n",
    "    \n",
    "finally:\n",
    "    print(\"Code execution completed.\")"
   ]
  },
  {
   "cell_type": "markdown",
   "id": "bf9d42f9",
   "metadata": {},
   "source": [
    "# Python Program for cube sum of first n natural numbers"
   ]
  },
  {
   "cell_type": "code",
   "execution_count": 7,
   "id": "f5815207",
   "metadata": {},
   "outputs": [
    {
     "name": "stdout",
     "output_type": "stream",
     "text": [
      "Enter a Number :  10\n",
      "3025.0\n",
      "The Cube sum is displayed successfully!\n",
      "Code execution completed.\n"
     ]
    }
   ],
   "source": [
    "\n",
    "try:\n",
    "    n = int(input(\"Enter a Number :  \"))    \n",
    "    print( (n * (n+1) / 2)**2)\n",
    "except ValueError as e:\n",
    "    print(\"Incorrect Value of n\")\n",
    "\n",
    "else:\n",
    "    print(\"The Cube sum is displayed successfully!\")\n",
    "    \n",
    "finally:\n",
    "    print(\"Code execution completed.\")"
   ]
  },
  {
   "cell_type": "code",
   "execution_count": null,
   "id": "643cf1dc",
   "metadata": {},
   "outputs": [],
   "source": []
  }
 ],
 "metadata": {
  "kernelspec": {
   "display_name": "Python 3 (ipykernel)",
   "language": "python",
   "name": "python3"
  },
  "language_info": {
   "codemirror_mode": {
    "name": "ipython",
    "version": 3
   },
   "file_extension": ".py",
   "mimetype": "text/x-python",
   "name": "python",
   "nbconvert_exporter": "python",
   "pygments_lexer": "ipython3",
   "version": "3.9.7"
  }
 },
 "nbformat": 4,
 "nbformat_minor": 5
}
