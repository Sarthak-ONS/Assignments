{
 "cells": [
  {
   "cell_type": "markdown",
   "id": "6ca713b0",
   "metadata": {},
   "source": [
    "# Python program to find sum of elements in list"
   ]
  },
  {
   "cell_type": "code",
   "execution_count": 5,
   "id": "c4e2a7c6",
   "metadata": {},
   "outputs": [
    {
     "name": "stdout",
     "output_type": "stream",
     "text": [
      "25\n"
     ]
    }
   ],
   "source": [
    "l = [1,2,3,4,5,10]\n",
    "sum = 0\n",
    "for i in l:\n",
    "    sum+=i\n",
    "print(sum)"
   ]
  },
  {
   "cell_type": "markdown",
   "id": "e95c4dbb",
   "metadata": {},
   "source": [
    "# Python program to Multiply all numbers in the list"
   ]
  },
  {
   "cell_type": "code",
   "execution_count": 7,
   "id": "301ea402",
   "metadata": {},
   "outputs": [
    {
     "name": "stdout",
     "output_type": "stream",
     "text": [
      "1200\n"
     ]
    }
   ],
   "source": [
    "l = [1,2,3,4,5,10]\n",
    "mult = 1\n",
    "for i in l:\n",
    "    mult*=i\n",
    "print(mult)"
   ]
  },
  {
   "cell_type": "markdown",
   "id": "2838160d",
   "metadata": {},
   "source": [
    "# Python program to find smallest number in a list"
   ]
  },
  {
   "cell_type": "code",
   "execution_count": 10,
   "id": "3d4823a3",
   "metadata": {},
   "outputs": [
    {
     "data": {
      "text/plain": [
       "-3"
      ]
     },
     "execution_count": 10,
     "metadata": {},
     "output_type": "execute_result"
    }
   ],
   "source": [
    "l = [1,2,3,4,5,10,0, -1, -2, -3]\n",
    "l.sort()\n",
    "l[0]"
   ]
  },
  {
   "cell_type": "markdown",
   "id": "a71fd588",
   "metadata": {},
   "source": [
    "# Python program to find largest number in a list"
   ]
  },
  {
   "cell_type": "code",
   "execution_count": 12,
   "id": "2c4f4bb6",
   "metadata": {},
   "outputs": [
    {
     "data": {
      "text/plain": [
       "100"
      ]
     },
     "execution_count": 12,
     "metadata": {},
     "output_type": "execute_result"
    }
   ],
   "source": [
    "l = [1,2,3,4,5,10,0, -1, -2, -3, 100]\n",
    "l.sort()\n",
    "l[len(l)-1]"
   ]
  },
  {
   "cell_type": "markdown",
   "id": "651a71b9",
   "metadata": {},
   "source": [
    "# Python program to find second largest number in a list"
   ]
  },
  {
   "cell_type": "code",
   "execution_count": 13,
   "id": "246bc1f3",
   "metadata": {},
   "outputs": [
    {
     "data": {
      "text/plain": [
       "10"
      ]
     },
     "execution_count": 13,
     "metadata": {},
     "output_type": "execute_result"
    }
   ],
   "source": [
    "l = [1,2,3,4,5,10,0, -1, -2, -3, 100]\n",
    "l.sort()\n",
    "l[len(l)-2]"
   ]
  },
  {
   "cell_type": "markdown",
   "id": "3da7d773",
   "metadata": {},
   "source": [
    "# Python program to find N largest elements from a list"
   ]
  },
  {
   "cell_type": "code",
   "execution_count": 22,
   "id": "e3d3b6a9",
   "metadata": {},
   "outputs": [
    {
     "name": "stdout",
     "output_type": "stream",
     "text": [
      "15\n"
     ]
    },
    {
     "data": {
      "text/plain": [
       "[100, 101]"
      ]
     },
     "execution_count": 22,
     "metadata": {},
     "output_type": "execute_result"
    }
   ],
   "source": [
    "N = 2\n",
    "l = [1,2,3,4,5,10,0, -1, -2, -3, 100, 12, 12, 34, 101]\n",
    "l.sort()\n",
    "print(len(l))\n",
    "l[len(l)- N :]"
   ]
  },
  {
   "cell_type": "markdown",
   "id": "d6b176e1",
   "metadata": {},
   "source": [
    "# Python program to print even numbers in a list"
   ]
  },
  {
   "cell_type": "code",
   "execution_count": 23,
   "id": "2eb03eb1",
   "metadata": {},
   "outputs": [
    {
     "name": "stdout",
     "output_type": "stream",
     "text": [
      "2\n",
      "4\n",
      "10\n",
      "0\n",
      "-2\n",
      "100\n"
     ]
    }
   ],
   "source": [
    "l = [1,2,3,4,5,10,0, -1, -2, -3, 100]\n",
    "\n",
    "for i in l:\n",
    "    if i & 1 ==0:\n",
    "        print(i)"
   ]
  },
  {
   "cell_type": "markdown",
   "id": "2fd1a03c",
   "metadata": {},
   "source": [
    "# Python program to print odd numbers in a List"
   ]
  },
  {
   "cell_type": "code",
   "execution_count": 24,
   "id": "5e1dd971",
   "metadata": {},
   "outputs": [
    {
     "name": "stdout",
     "output_type": "stream",
     "text": [
      "1\n",
      "3\n",
      "5\n",
      "-1\n",
      "-3\n"
     ]
    }
   ],
   "source": [
    "l = [1,2,3,4,5,10,0, -1, -2, -3, 100]\n",
    "\n",
    "for i in l:\n",
    "    if i & 1 == 1:\n",
    "        print(i)"
   ]
  },
  {
   "cell_type": "markdown",
   "id": "4a3502fd",
   "metadata": {},
   "source": [
    "# Python program to Remove empty List from List"
   ]
  },
  {
   "cell_type": "code",
   "execution_count": 34,
   "id": "57b7762c",
   "metadata": {},
   "outputs": [
    {
     "name": "stdout",
     "output_type": "stream",
     "text": [
      "[1, 12, 3, 6, 5, [], 10, [], 0, -1, [], -2, -3, [], 100]\n",
      "[1, 12, 3, 6, 5, 10, 0, -1, -2, -3, 100]\n"
     ]
    }
   ],
   "source": [
    "l = [1,12,3,6,5, [],10, [] ,0, -1, [] , -2, -3,[], 100]\n",
    "    \n",
    "l1 = [i  for i  in l if i!= []]\n",
    "\n",
    "print(l)\n",
    "print(l1)"
   ]
  },
  {
   "cell_type": "markdown",
   "id": "56d9323a",
   "metadata": {},
   "source": [
    "# Python program to Cloning or Copying a list"
   ]
  },
  {
   "cell_type": "code",
   "execution_count": 36,
   "id": "fdc7a9f3",
   "metadata": {},
   "outputs": [
    {
     "name": "stdout",
     "output_type": "stream",
     "text": [
      "[1, 2, 3, 4, 5, 10, 0, -1, -2, -3, 100]\n"
     ]
    }
   ],
   "source": [
    "l = [1,2,3,4,5,10,0, -1, -2, -3, 100]\n",
    "\n",
    "new_list = [i for i in l]\n",
    "print(new_list)"
   ]
  },
  {
   "cell_type": "markdown",
   "id": "8c14ab95",
   "metadata": {},
   "source": [
    "# Python program to Count occurrences of an element in a list"
   ]
  },
  {
   "cell_type": "code",
   "execution_count": 44,
   "id": "071a3fc2",
   "metadata": {},
   "outputs": [
    {
     "name": "stdout",
     "output_type": "stream",
     "text": [
      "1\n"
     ]
    }
   ],
   "source": [
    "l = [1,1,2,3,4,5,10,0, -1, -2, -3, 100]\n",
    "\n",
    "n = 10\n",
    "count = 0\n",
    "\n",
    "for i in l:\n",
    "    if i == n:\n",
    "        count+=1\n",
    "print(count)"
   ]
  },
  {
   "cell_type": "code",
   "execution_count": null,
   "id": "1887191c",
   "metadata": {},
   "outputs": [],
   "source": []
  }
 ],
 "metadata": {
  "kernelspec": {
   "display_name": "Python 3 (ipykernel)",
   "language": "python",
   "name": "python3"
  },
  "language_info": {
   "codemirror_mode": {
    "name": "ipython",
    "version": 3
   },
   "file_extension": ".py",
   "mimetype": "text/x-python",
   "name": "python",
   "nbconvert_exporter": "python",
   "pygments_lexer": "ipython3",
   "version": "3.9.7"
  }
 },
 "nbformat": 4,
 "nbformat_minor": 5
}
