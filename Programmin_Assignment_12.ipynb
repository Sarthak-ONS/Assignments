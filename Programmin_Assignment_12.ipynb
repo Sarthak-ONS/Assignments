{
 "cells": [
  {
   "cell_type": "markdown",
   "id": "d10e8c80",
   "metadata": {},
   "source": [
    "# Python program to Extract Unique values dictionary values"
   ]
  },
  {
   "cell_type": "code",
   "execution_count": 27,
   "id": "603ce825",
   "metadata": {},
   "outputs": [
    {
     "data": {
      "text/plain": [
       "{1, 2, 3, 4, 5, 6, 7}"
      ]
     },
     "execution_count": 27,
     "metadata": {},
     "output_type": "execute_result"
    }
   ],
   "source": [
    "# Using Below as a dictionary\n",
    "\n",
    "ans = {}\n",
    "\n",
    "data = {\n",
    "    'a' : [1,2,3,4],\n",
    "    'b' : [4,5,6,7]\n",
    "}\n",
    "\n",
    "ans = {ele for i in data.values() for ele in i}\n",
    "\n",
    "ans\n",
    "\n",
    "# 4 is removed from the ans\n"
   ]
  },
  {
   "cell_type": "markdown",
   "id": "1991b0b6",
   "metadata": {},
   "source": [
    "# Python program to find the sum of all items in a dictionary"
   ]
  },
  {
   "cell_type": "code",
   "execution_count": 29,
   "id": "372831b0",
   "metadata": {},
   "outputs": [],
   "source": [
    "data = {\n",
    "    'a' : 120,\n",
    "    'b' : 50\n",
    "}"
   ]
  },
  {
   "cell_type": "code",
   "execution_count": 34,
   "id": "df7f7d6c",
   "metadata": {},
   "outputs": [
    {
     "name": "stdout",
     "output_type": "stream",
     "text": [
      "170\n"
     ]
    }
   ],
   "source": [
    "sum = 0\n",
    "\n",
    "for i in data.values():\n",
    "    sum = sum + i\n",
    "\n",
    "print(sum)"
   ]
  },
  {
   "cell_type": "markdown",
   "id": "d188ee99",
   "metadata": {},
   "source": [
    "# Python program to Merging two Dictionaries "
   ]
  },
  {
   "cell_type": "code",
   "execution_count": null,
   "id": "6d4647d3",
   "metadata": {},
   "outputs": [],
   "source": [
    "data1 = {\n",
    "    'a' : 12,\n",
    "    'c' : 53\n",
    "}\n",
    "data2 = {\n",
    "    'd' : 10,\n",
    "    'e' : 72\n",
    "}\n",
    "\n",
    "data1.update(data2)\n",
    "\n",
    "data1"
   ]
  },
  {
   "cell_type": "markdown",
   "id": "90ef7668",
   "metadata": {},
   "source": [
    "# Python program to convert key-values list to flat dictionary"
   ]
  },
  {
   "cell_type": "code",
   "execution_count": 46,
   "id": "d12a32bb",
   "metadata": {},
   "outputs": [
    {
     "data": {
      "text/plain": [
       "{'Ramesh': 40, 'Suresh': 45, 'Lokesh': 50, 'Sarthak': 70}"
      ]
     },
     "execution_count": 46,
     "metadata": {},
     "output_type": "execute_result"
    }
   ],
   "source": [
    "data = {\n",
    "    'names' : ['Ramesh', 'Suresh', 'Lokesh', 'Sarthak'],\n",
    "    'ages': [40,45,50, 70]\n",
    "}\n",
    "\n",
    "dict(zip(data['names'], data['ages']))"
   ]
  },
  {
   "cell_type": "markdown",
   "id": "10ca6f51",
   "metadata": {},
   "source": [
    "#  Python program to insertion at the beginning in OrderedDict"
   ]
  },
  {
   "cell_type": "code",
   "execution_count": 62,
   "id": "5eb677fd",
   "metadata": {},
   "outputs": [],
   "source": [
    "data = {\n",
    "    'a' : 1,\n",
    "    'b': 2\n",
    "}\n",
    "\n",
    "t= {'z' : 0}"
   ]
  },
  {
   "cell_type": "code",
   "execution_count": 63,
   "id": "befe1bb6",
   "metadata": {},
   "outputs": [],
   "source": [
    " t.update(data)"
   ]
  },
  {
   "cell_type": "code",
   "execution_count": 64,
   "id": "6596c205",
   "metadata": {},
   "outputs": [
    {
     "data": {
      "text/plain": [
       "{'z': 0, 'a': 1, 'b': 2}"
      ]
     },
     "execution_count": 64,
     "metadata": {},
     "output_type": "execute_result"
    }
   ],
   "source": [
    "t"
   ]
  },
  {
   "cell_type": "markdown",
   "id": "62c8f400",
   "metadata": {},
   "source": [
    "# Python program to sort Python Dictionaries by Key or Value"
   ]
  },
  {
   "cell_type": "code",
   "execution_count": 74,
   "id": "cdc05837",
   "metadata": {},
   "outputs": [
    {
     "data": {
      "text/plain": [
       "{'b': 1, 'd': 98, 't': 12, 'z': 2}"
      ]
     },
     "execution_count": 74,
     "metadata": {},
     "output_type": "execute_result"
    }
   ],
   "source": [
    "data = {\n",
    "    'z' : 2,\n",
    "    'b': 1,\n",
    "    't': 12,\n",
    "    'd': 98\n",
    "    \n",
    "}\n",
    "\n",
    "new = {}\n",
    "\n",
    "{i : j  for i,j in sorted(data.items())}"
   ]
  },
  {
   "cell_type": "code",
   "execution_count": null,
   "id": "6661d1f5",
   "metadata": {},
   "outputs": [],
   "source": []
  }
 ],
 "metadata": {
  "kernelspec": {
   "display_name": "Python 3 (ipykernel)",
   "language": "python",
   "name": "python3"
  },
  "language_info": {
   "codemirror_mode": {
    "name": "ipython",
    "version": 3
   },
   "file_extension": ".py",
   "mimetype": "text/x-python",
   "name": "python",
   "nbconvert_exporter": "python",
   "pygments_lexer": "ipython3",
   "version": "3.9.7"
  }
 },
 "nbformat": 4,
 "nbformat_minor": 5
}
