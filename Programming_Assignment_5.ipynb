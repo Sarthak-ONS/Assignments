{
 "cells": [
  {
   "cell_type": "markdown",
   "id": "e35689c9",
   "metadata": {},
   "source": [
    "# Python Program to Find LCM"
   ]
  },
  {
   "cell_type": "code",
   "execution_count": 6,
   "id": "ea9ed7e7",
   "metadata": {},
   "outputs": [
    {
     "name": "stdout",
     "output_type": "stream",
     "text": [
      "Enter first number : 8\n",
      "Enter second number : 512\n",
      "512\n",
      "\n",
      "Code Compiled Successfully. \n"
     ]
    }
   ],
   "source": [
    "try: \n",
    "    \n",
    "    x = int(input(\"Enter first number : \"))\n",
    "    y = int(input(\"Enter second number : \"))\n",
    "    \n",
    "    g = x\n",
    "    \n",
    "    if x > y:\n",
    "        g = x\n",
    "    else:\n",
    "        g = y\n",
    "        \n",
    "    while True:\n",
    "        if g % x ==0 and  g % y==0:\n",
    "            print(g)\n",
    "            break;\n",
    "        g+=1\n",
    "    \n",
    "except ValueError as e:\n",
    "    print(\"Invalid Value\")\n",
    "\n",
    "except Exception as e:\n",
    "    print(e)\n",
    "\n",
    "finally: \n",
    "    print(\"\\nCode Compiled Successfully. \")"
   ]
  },
  {
   "cell_type": "markdown",
   "id": "1f24f5a4",
   "metadata": {},
   "source": [
    "# Python Program to Find HCF"
   ]
  },
  {
   "cell_type": "code",
   "execution_count": 10,
   "id": "43ba52f5",
   "metadata": {},
   "outputs": [
    {
     "name": "stdout",
     "output_type": "stream",
     "text": [
      "Enter first number : 8\n",
      "Enter second number : 512\n",
      "8\n",
      "\n",
      "Code Compiled Successfully. \n"
     ]
    }
   ],
   "source": [
    "try: \n",
    "    \n",
    "    x = int(input(\"Enter first number : \"))\n",
    "    y = int(input(\"Enter second number : \"))\n",
    "    \n",
    "    s = x\n",
    "    \n",
    "    if x > y:\n",
    "        s = y\n",
    "    else:\n",
    "        g = x\n",
    "        \n",
    "    hcf = 0\n",
    "        \n",
    "    for i in range(1 , s +1):\n",
    "            if((x % i == 0) and (y % i == 0)):  \n",
    "                hcf = i  \n",
    "    print(hcf)\n",
    "    \n",
    "except ValueError as e:\n",
    "    print(\"Invalid Value\")\n",
    "\n",
    "except Exception as e:\n",
    "    print(e)\n",
    "\n",
    "finally: \n",
    "    print(\"\\nCode Compiled Successfully. \")"
   ]
  },
  {
   "cell_type": "markdown",
   "id": "9de86a76",
   "metadata": {},
   "source": [
    "# Python Program to Convert Decimal to Binary, Octal and Hexadecimal"
   ]
  },
  {
   "cell_type": "code",
   "execution_count": 25,
   "id": "d0a8deb9",
   "metadata": {},
   "outputs": [
    {
     "name": "stdout",
     "output_type": "stream",
     "text": [
      "Enter a no : 15\n",
      "15 in binary is 1111\n",
      "15 in binary is 0o17\n",
      "15 in binary is 0xf\n",
      "Code Compiled Successfully. \n"
     ]
    }
   ],
   "source": [
    "try: \n",
    "    \n",
    "    x = int(input(\"Enter a no : \"))\n",
    "    \n",
    "    print(f\"{x} in binary is {bin(x)[2:]}\")\n",
    "    print(f\"{x} in binary is {oct(x)}\")\n",
    "    print(f\"{x} in binary is {hex(x)}\")\n",
    "    \n",
    "    \n",
    "except ValueError as e:\n",
    "    print(\"Invalid Value\")\n",
    "\n",
    "except Exception as e:\n",
    "    print(e)\n",
    "\n",
    "finally: \n",
    "    print(\"Code Compiled Successfully. \")"
   ]
  },
  {
   "cell_type": "markdown",
   "id": "53cf110f",
   "metadata": {},
   "source": [
    "# Python Program To Find ASCII value of a character"
   ]
  },
  {
   "cell_type": "code",
   "execution_count": 36,
   "id": "c0067d50",
   "metadata": {},
   "outputs": [
    {
     "name": "stdout",
     "output_type": "stream",
     "text": [
      "Enter a no : A\n",
      "ASCII value of A is 65\n",
      "Code Compiled Successfully. \n"
     ]
    }
   ],
   "source": [
    "try: \n",
    "    \n",
    "    x = (input(\"Enter a no : \"))\n",
    "    s = x[0]\n",
    "    print(f\"ASCII value of {s} is {ord(s)}\")\n",
    "    \n",
    "except ValueError as e:\n",
    "    print(\"Invalid Value\")\n",
    "\n",
    "except Exception as e:\n",
    "    print(e)\n",
    "\n",
    "finally: \n",
    "    print(\"Code Compiled Successfully. \")"
   ]
  },
  {
   "cell_type": "markdown",
   "id": "d95be807",
   "metadata": {},
   "source": [
    "# Python Program to Make a Simple Calculator with 4 basic mathematical operations"
   ]
  },
  {
   "cell_type": "code",
   "execution_count": 43,
   "id": "875e787b",
   "metadata": {},
   "outputs": [
    {
     "name": "stdout",
     "output_type": "stream",
     "text": [
      "Calculator Functions\n",
      "Enter 1, For Addition\n",
      "Enter 2, For Subtraction,\n",
      "Enter 3, For Multiplication\n",
      "Enter 4, For Division\n",
      "Choose a operation, from above operation\n",
      "Enter no : 4\n",
      "Enter First  no : 5\n",
      "Enter Second  no : 5\n",
      "1.0\n",
      "Code Compiled Successfully. \n"
     ]
    }
   ],
   "source": [
    "try: \n",
    "    \n",
    "    print(\"Calculator Functions\")\n",
    "    print(\"Enter 1, For Addition\")\n",
    "    print(\"Enter 2, For Subtraction,\")\n",
    "    print(\"Enter 3, For Multiplication\")\n",
    "    print(\"Enter 4, For Division\")\n",
    "    \n",
    "    print(\"Choose a operation, from above operation\")\n",
    "    \n",
    "    op = float(input(\"Enter no : \"))\n",
    "    \n",
    "    if op==1 or op==2 or op==3 or op==4:\n",
    "                x = float(input(\"Enter First  no : \"))\n",
    "                y = int(input(\"Enter Second  no : \"))\n",
    "                \n",
    "                if op == 1:\n",
    "                    print(x+y)\n",
    "                elif op ==2:\n",
    "                    print(x-y)\n",
    "                elif op==3:\n",
    "                    print(x*y)\n",
    "                elif op == 4:\n",
    "                    print(x/y)\n",
    "                    \n",
    "    \n",
    "    else :\n",
    "        \n",
    "        raise Exception(\"Invalid Operation\")\n",
    "    \n",
    "    \n",
    "    \n",
    "except ValueError as e:\n",
    "    print(\"Invalid Value\")\n",
    "\n",
    "except Exception as e:\n",
    "    print(e)\n",
    "\n",
    "    \n",
    "finally: \n",
    "    print(\"Code Compiled Successfully. \")"
   ]
  },
  {
   "cell_type": "code",
   "execution_count": null,
   "id": "5d851404",
   "metadata": {},
   "outputs": [],
   "source": []
  }
 ],
 "metadata": {
  "kernelspec": {
   "display_name": "Python 3 (ipykernel)",
   "language": "python",
   "name": "python3"
  },
  "language_info": {
   "codemirror_mode": {
    "name": "ipython",
    "version": 3
   },
   "file_extension": ".py",
   "mimetype": "text/x-python",
   "name": "python",
   "nbconvert_exporter": "python",
   "pygments_lexer": "ipython3",
   "version": "3.9.7"
  }
 },
 "nbformat": 4,
 "nbformat_minor": 5
}
