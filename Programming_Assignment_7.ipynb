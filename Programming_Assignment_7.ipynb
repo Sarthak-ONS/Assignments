{
 "cells": [
  {
   "cell_type": "markdown",
   "id": "aba30777",
   "metadata": {},
   "source": [
    "# Python Program to find sum of array"
   ]
  },
  {
   "cell_type": "code",
   "execution_count": 11,
   "id": "c5ef88a6",
   "metadata": {},
   "outputs": [
    {
     "name": "stdout",
     "output_type": "stream",
     "text": [
      "37\n"
     ]
    }
   ],
   "source": [
    "arr = [1,5,4,2, 10 , 15]\n",
    "\n",
    "sum = 0\n",
    "for i in  arr:\n",
    "    sum = sum + i\n",
    "    \n",
    "print(sum)"
   ]
  },
  {
   "cell_type": "markdown",
   "id": "a2446677",
   "metadata": {},
   "source": [
    "# Python Program to find largest element in an array"
   ]
  },
  {
   "cell_type": "code",
   "execution_count": 13,
   "id": "888714ab",
   "metadata": {},
   "outputs": [
    {
     "data": {
      "text/plain": [
       "25"
      ]
     },
     "execution_count": 13,
     "metadata": {},
     "output_type": "execute_result"
    }
   ],
   "source": [
    "arr = [1,25,4,2, 10 , 15]\n",
    "arr.sort()\n",
    "arr[len(arr)-1]"
   ]
  },
  {
   "cell_type": "markdown",
   "id": "bf37ef99",
   "metadata": {},
   "source": [
    "# Python Program for array rotation"
   ]
  },
  {
   "cell_type": "code",
   "execution_count": 15,
   "id": "a7e70f95",
   "metadata": {},
   "outputs": [
    {
     "data": {
      "text/plain": [
       "[25, 4, 2, 10, 15, 1]"
      ]
     },
     "execution_count": 15,
     "metadata": {},
     "output_type": "execute_result"
    }
   ],
   "source": [
    "arr = [1,25,4,2,10,15]\n",
    "\n",
    "# Assuming is Array is to be rotated by one units in left direction\n",
    "\n",
    "temp  = arr[0]\n",
    "\n",
    "for i in range(0, len(arr)-1):\n",
    "    arr[i] = arr[i+1]\n",
    "\n",
    "arr[len(arr)-1] = temp\n",
    "arr"
   ]
  },
  {
   "cell_type": "markdown",
   "id": "19ef8071",
   "metadata": {},
   "source": [
    "# Python Program to Split the array and add the first part to the end"
   ]
  },
  {
   "cell_type": "code",
   "execution_count": 31,
   "id": "9e4ed313",
   "metadata": {},
   "outputs": [
    {
     "data": {
      "text/plain": [
       "[15, 1, 25, 4, 2, 10]"
      ]
     },
     "execution_count": 31,
     "metadata": {},
     "output_type": "execute_result"
    }
   ],
   "source": [
    "arr = [1,25,4,2,10,15]\n",
    "\n",
    "# Assuming Array is to be spillited by s_pos\n",
    "s_pos = 5\n",
    "\n",
    "# Output Array must be [4,2,10,15,1,25]\n",
    "\n",
    "l1 = arr[:s_pos] \n",
    "l2 = arr[s_pos:]\n",
    "\n",
    "arr = l2+l1\n",
    "arr"
   ]
  },
  {
   "cell_type": "markdown",
   "id": "f84f122c",
   "metadata": {},
   "source": [
    "# Python Program to check if given array is Monotonic"
   ]
  },
  {
   "cell_type": "code",
   "execution_count": 54,
   "id": "c882a97c",
   "metadata": {},
   "outputs": [],
   "source": [
    "def isMonotonic(A):\n",
    "  \n",
    "    return (all(A[i] <= A[i + 1] for i in range(len(A) - 1)) or\n",
    "            all(A[i] >= A[i + 1] for i in range(len(A) - 1)))\n",
    "  \n"
   ]
  },
  {
   "cell_type": "code",
   "execution_count": 57,
   "id": "8f05a4c5",
   "metadata": {},
   "outputs": [
    {
     "name": "stdout",
     "output_type": "stream",
     "text": [
      "True\n"
     ]
    }
   ],
   "source": [
    "arr = [10, 12, 40, 70]\n",
    "  \n",
    "print(isMonotonic(arr))"
   ]
  },
  {
   "cell_type": "code",
   "execution_count": null,
   "id": "2b5735c6",
   "metadata": {},
   "outputs": [],
   "source": []
  }
 ],
 "metadata": {
  "kernelspec": {
   "display_name": "Python 3 (ipykernel)",
   "language": "python",
   "name": "python3"
  },
  "language_info": {
   "codemirror_mode": {
    "name": "ipython",
    "version": 3
   },
   "file_extension": ".py",
   "mimetype": "text/x-python",
   "name": "python",
   "nbconvert_exporter": "python",
   "pygments_lexer": "ipython3",
   "version": "3.9.7"
  }
 },
 "nbformat": 4,
 "nbformat_minor": 5
}
