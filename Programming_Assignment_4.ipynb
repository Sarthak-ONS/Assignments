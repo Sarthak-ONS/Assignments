{
 "cells": [
  {
   "cell_type": "markdown",
   "id": "278503e5",
   "metadata": {},
   "source": [
    "# Python Program to Find the Factorial of a Number"
   ]
  },
  {
   "cell_type": "code",
   "execution_count": 1,
   "id": "684d0f1f",
   "metadata": {},
   "outputs": [
    {
     "name": "stdout",
     "output_type": "stream",
     "text": [
      "Enter a no : 5\n",
      "The factorial of 5 is 120\n",
      "Code Compiled Successfully. \n"
     ]
    }
   ],
   "source": [
    "try: \n",
    "    \n",
    "    i = int(input(\"Enter a no : \"))\n",
    "    \n",
    "    fact = 1\n",
    "    \n",
    "    for i in range(1,i+1):\n",
    "        fact = fact * i\n",
    "    print(f\"The factorial of {i} is {fact}\")\n",
    "    \n",
    "    \n",
    "except ValueError as e:\n",
    "    print(\"Invalid Value\")\n",
    "\n",
    "except Exception as e:\n",
    "    print(e)\n",
    "\n",
    "finally: \n",
    "    print(\"Code Compiled Successfully. \")"
   ]
  },
  {
   "cell_type": "markdown",
   "id": "d57ac754",
   "metadata": {},
   "source": [
    "# Python Program to Display the multiplication Table"
   ]
  },
  {
   "cell_type": "code",
   "execution_count": 2,
   "id": "4ded3e6a",
   "metadata": {},
   "outputs": [
    {
     "name": "stdout",
     "output_type": "stream",
     "text": [
      "Enter a no : 5\n",
      "5 * 1 = 5\n",
      "5 * 2 = 10\n",
      "5 * 3 = 15\n",
      "5 * 4 = 20\n",
      "5 * 5 = 25\n",
      "5 * 6 = 30\n",
      "5 * 7 = 35\n",
      "5 * 8 = 40\n",
      "5 * 9 = 45\n",
      "5 * 10 = 50\n",
      "Code Compiled Successfully. \n"
     ]
    }
   ],
   "source": [
    "try: \n",
    "    \n",
    "    x = int(input(\"Enter a no : \"))\n",
    "    \n",
    "    for i in range(1,11 ):\n",
    "        print(f\"{x} * {i} = {x * i}\")\n",
    "    \n",
    "    \n",
    "except ValueError as e:\n",
    "    print(\"Invalid Value\")\n",
    "\n",
    "except Exception as e:\n",
    "    print(e)\n",
    "\n",
    "finally: \n",
    "    print(\"Code Compiled Successfully. \")"
   ]
  },
  {
   "cell_type": "markdown",
   "id": "57920a40",
   "metadata": {},
   "source": [
    "# Python Program to Print the Fibonacci sequence"
   ]
  },
  {
   "cell_type": "code",
   "execution_count": 3,
   "id": "b5d5127d",
   "metadata": {},
   "outputs": [
    {
     "name": "stdout",
     "output_type": "stream",
     "text": [
      "Enter a no : 10\n",
      "1 1 2 3 5 8 13 21 34 \n",
      "Code Compiled Successfully. \n"
     ]
    }
   ],
   "source": [
    "try: \n",
    "    \n",
    "    x = int(input(\"Enter a no : \"))\n",
    "    a = 0\n",
    "    b =1\n",
    "    for i in range(1,x ):\n",
    "        print(b, end=\" \")\n",
    "        b,a = a+b , b\n",
    "    \n",
    "    \n",
    "except ValueError as e:\n",
    "    print(\"Invalid Value\")\n",
    "\n",
    "except Exception as e:\n",
    "    print(e)\n",
    "\n",
    "finally: \n",
    "    print(\"\\nCode Compiled Successfully. \")"
   ]
  },
  {
   "cell_type": "markdown",
   "id": "6d3846cc",
   "metadata": {},
   "source": [
    "# Python Program to Check Armstrong Number"
   ]
  },
  {
   "cell_type": "code",
   "execution_count": 16,
   "id": "dca02c21",
   "metadata": {},
   "outputs": [],
   "source": [
    "def checkArmstrong(n):\n",
    "\n",
    "    s = n  \n",
    "    b = len(str(n))\n",
    "    sum1 = 0\n",
    "    while n != 0:\n",
    "        r = n % 10\n",
    "        sum1 = sum1+(r**b)\n",
    "        n = n // 10\n",
    "    if s == sum1:\n",
    "        print(f\"{s} is armstrong number\")\n",
    "    else:\n",
    "        print(f\"{s} is not a armstrong number\")\n",
    "    \n",
    "    "
   ]
  },
  {
   "cell_type": "code",
   "execution_count": 17,
   "id": "07e75068",
   "metadata": {},
   "outputs": [
    {
     "name": "stdout",
     "output_type": "stream",
     "text": [
      "Enter a no : 153\n",
      "153 is armstrong number\n",
      "\n",
      "Code Compiled Successfully. \n"
     ]
    }
   ],
   "source": [
    "try: \n",
    "    \n",
    "    x = int(input(\"Enter a no : \"))\n",
    "    checkArmstrong(x)\n",
    "    \n",
    "except ValueError as e:\n",
    "    print(\"Invalid Value\")\n",
    "\n",
    "except Exception as e:\n",
    "    print(e)\n",
    "\n",
    "finally: \n",
    "    print(\"\\nCode Compiled Successfully. \")"
   ]
  },
  {
   "cell_type": "markdown",
   "id": "e8188ab2",
   "metadata": {},
   "source": [
    "# Python Program to Find Armstrong Number in an Interval"
   ]
  },
  {
   "cell_type": "code",
   "execution_count": 32,
   "id": "54461be0",
   "metadata": {},
   "outputs": [
    {
     "name": "stdout",
     "output_type": "stream",
     "text": [
      "Enter a starting point : 0\n",
      "Enter ending  point : 10\n",
      "0 is armstrong number\n",
      "1 is armstrong number\n",
      "2 is armstrong number\n",
      "3 is armstrong number\n",
      "4 is armstrong number\n",
      "5 is armstrong number\n",
      "6 is armstrong number\n",
      "7 is armstrong number\n",
      "8 is armstrong number\n",
      "9 is armstrong number\n",
      "10 is not a armstrong number\n",
      "\n",
      "Code Compiled Successfully. \n"
     ]
    }
   ],
   "source": [
    "try: \n",
    "    \n",
    "    x = int(input(\"Enter a starting point : \"))\n",
    "    y = int(input(\"Enter ending  point : \"))\n",
    "    for i in range(x,y+1):\n",
    "        checkArmstrong(i)\n",
    "    \n",
    "except ValueError as e:\n",
    "    print(\"Invalid Value\")\n",
    "\n",
    "except Exception as e:\n",
    "    print(e)\n",
    "\n",
    "finally: \n",
    "    print(\"\\nCode Compiled Successfully. \")"
   ]
  },
  {
   "cell_type": "markdown",
   "id": "e05448f1",
   "metadata": {},
   "source": [
    "# Python Program to Find the Sum of Natural Numbers"
   ]
  },
  {
   "cell_type": "code",
   "execution_count": 31,
   "id": "0dc93862",
   "metadata": {},
   "outputs": [
    {
     "name": "stdout",
     "output_type": "stream",
     "text": [
      "Enter a starting point : 5\n",
      "Enter ending  point : 10\n",
      "45.0\n",
      "\n",
      "Code Compiled Successfully. \n"
     ]
    }
   ],
   "source": [
    "\n",
    "def retSum(n):\n",
    "    return n * (n+1) /2\n",
    "\n",
    "\n",
    "try: \n",
    "    \n",
    "    x = int(input(\"Enter a starting point : \"))\n",
    "    y = int(input(\"Enter ending  point : \"))\n",
    "    \n",
    "    ans = retSum(y) - retSum(x) + x\n",
    "    \n",
    "    print(ans)\n",
    "    \n",
    "except ValueError as e:\n",
    "    print(\"Invalid Value\")\n",
    "\n",
    "except Exception as e:\n",
    "    print(e)\n",
    "\n",
    "finally: \n",
    "    print(\"\\nCode Compiled Successfully. \")"
   ]
  }
 ],
 "metadata": {
  "kernelspec": {
   "display_name": "Python 3 (ipykernel)",
   "language": "python",
   "name": "python3"
  },
  "language_info": {
   "codemirror_mode": {
    "name": "ipython",
    "version": 3
   },
   "file_extension": ".py",
   "mimetype": "text/x-python",
   "name": "python",
   "nbconvert_exporter": "python",
   "pygments_lexer": "ipython3",
   "version": "3.9.7"
  }
 },
 "nbformat": 4,
 "nbformat_minor": 5
}
